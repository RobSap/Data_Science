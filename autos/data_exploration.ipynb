{
 "cells": [
  {
   "cell_type": "markdown",
   "metadata": {},
   "source": [
    "This is a Data Science Exploration \n",
    "\n",
    "The data set is from the UCI Machine Learning Repository located [here.](https://archive.ics.uci.edu/ml/index.php)\n"
   ]
  },
  {
   "cell_type": "markdown",
   "metadata": {},
   "source": [
    "# Load the Data"
   ]
  },
  {
   "cell_type": "code",
   "execution_count": 104,
   "metadata": {},
   "outputs": [],
   "source": [
    "import pandas as pd\n",
    "import numpy as np\n",
    "url = \"https://archive.ics.uci.edu/ml/machine-learning-databases/autos/imports-85.data\"\n",
    "df = pd.read_csv(url, header = None)\n",
    "#attribute names from https://archive.ics.uci.edu/ml/machine-learning-databases/autos/imports-85.names\n",
    "\n",
    "headers = [\"symboling\",\"nomalized-losses\",\"make\",\"fule-type\",\"aspiration\",\"num-of-doors\",\n",
    "           \"body-styple\",\"drive-wheels\", \"engine-location\", \"wheel-base\",\"length\",\"width\", \n",
    "           \"height\",\"curb-weight\",\"engine-type\", \"num-of-cylinders\",\"engine-size\",\n",
    "           \"fuel-system\",\"bore\",\"stroke\", \"compression-ratio\",\"horsepower\",\"peak-rpm\",\n",
    "           \"city-mpg\",\"highway-mpg\",\"price\"]\n",
    "df.columns=headers"
   ]
  },
  {
   "cell_type": "code",
   "execution_count": 105,
   "metadata": {},
   "outputs": [
    {
     "name": "stdout",
     "output_type": "stream",
     "text": [
      "   symboling nomalized-losses         make fule-type aspiration num-of-doors  \\\n",
      "0          3                ?  alfa-romero       gas        std          two   \n",
      "1          3                ?  alfa-romero       gas        std          two   \n",
      "2          1                ?  alfa-romero       gas        std          two   \n",
      "3          2              164         audi       gas        std         four   \n",
      "4          2              164         audi       gas        std         four   \n",
      "5          2                ?         audi       gas        std          two   \n",
      "6          1              158         audi       gas        std         four   \n",
      "7          1                ?         audi       gas        std         four   \n",
      "8          1              158         audi       gas      turbo         four   \n",
      "9          0                ?         audi       gas      turbo          two   \n",
      "\n",
      "   body-styple drive-wheels engine-location  wheel-base  ...    engine-size  \\\n",
      "0  convertible          rwd           front        88.6  ...            130   \n",
      "1  convertible          rwd           front        88.6  ...            130   \n",
      "2    hatchback          rwd           front        94.5  ...            152   \n",
      "3        sedan          fwd           front        99.8  ...            109   \n",
      "4        sedan          4wd           front        99.4  ...            136   \n",
      "5        sedan          fwd           front        99.8  ...            136   \n",
      "6        sedan          fwd           front       105.8  ...            136   \n",
      "7        wagon          fwd           front       105.8  ...            136   \n",
      "8        sedan          fwd           front       105.8  ...            131   \n",
      "9    hatchback          4wd           front        99.5  ...            131   \n",
      "\n",
      "   fuel-system  bore  stroke compression-ratio horsepower  peak-rpm city-mpg  \\\n",
      "0         mpfi  3.47    2.68               9.0        111      5000       21   \n",
      "1         mpfi  3.47    2.68               9.0        111      5000       21   \n",
      "2         mpfi  2.68    3.47               9.0        154      5000       19   \n",
      "3         mpfi  3.19    3.40              10.0        102      5500       24   \n",
      "4         mpfi  3.19    3.40               8.0        115      5500       18   \n",
      "5         mpfi  3.19    3.40               8.5        110      5500       19   \n",
      "6         mpfi  3.19    3.40               8.5        110      5500       19   \n",
      "7         mpfi  3.19    3.40               8.5        110      5500       19   \n",
      "8         mpfi  3.13    3.40               8.3        140      5500       17   \n",
      "9         mpfi  3.13    3.40               7.0        160      5500       16   \n",
      "\n",
      "  highway-mpg  price  \n",
      "0          27  13495  \n",
      "1          27  16500  \n",
      "2          26  16500  \n",
      "3          30  13950  \n",
      "4          22  17450  \n",
      "5          25  15250  \n",
      "6          25  17710  \n",
      "7          25  18920  \n",
      "8          20  23875  \n",
      "9          22      ?  \n",
      "\n",
      "[10 rows x 26 columns]\n"
     ]
    }
   ],
   "source": [
    "print(df.head(10)) \n",
    "\n"
   ]
  },
  {
   "cell_type": "markdown",
   "metadata": {},
   "source": [
    "From https://archive.ics.uci.edu/ml/machine-learning-databases/autos/imports-85.names\n",
    " Number of Attributes: 26 total\n",
    "   -- 15 continuous\n",
    "   -- 1 integer\n",
    "   -- 10 nominal\n",
    "   \n",
    "  1. symboling:                -3, -2, -1, 0, 1, 2, 3.\n",
    "  2. normalized-losses:        continuous from 65 to 256.\n",
    "  3. make:                     alfa-romero, audi, bmw, chevrolet, dodge, honda,\n",
    "                               isuzu, jaguar, mazda, mercedes-benz, mercury,\n",
    "                               mitsubishi, nissan, peugot, plymouth, porsche,\n",
    "                               renault, saab, subaru, toyota, volkswagen, volvo\n",
    "  4. fuel-type:                diesel, gas.\n",
    "  5. aspiration:               std, turbo.\n",
    "  6. num-of-doors:             four, two.\n",
    "  7. body-style:               hardtop, wagon, sedan, hatchback, convertible.\n",
    "  8. drive-wheels:             4wd, fwd, rwd.\n",
    "  9. engine-location:          front, rear.\n",
    " 10. wheel-base:               continuous from 86.6 120.9.\n",
    " 11. length:                   continuous from 141.1 to 208.1.\n",
    " 12. width:                    continuous from 60.3 to 72.3.\n",
    " 13. height:                   continuous from 47.8 to 59.8.\n",
    " 14. curb-weight:              continuous from 1488 to 4066.\n",
    " 15. engine-type:              dohc, dohcv, l, ohc, ohcf, ohcv, rotor.\n",
    " 16. num-of-cylinders:         eight, five, four, six, three, twelve, two.\n",
    " 17. engine-size:              continuous from 61 to 326.\n",
    " 18. fuel-system:              1bbl, 2bbl, 4bbl, idi, mfi, mpfi, spdi, spfi.\n",
    " 19. bore:                     continuous from 2.54 to 3.94.\n",
    " 20. stroke:                   continuous from 2.07 to 4.17.\n",
    " 21. compression-ratio:        continuous from 7 to 23.\n",
    " 22. horsepower:               continuous from 48 to 288.\n",
    " 23. peak-rpm:                 continuous from 4150 to 6600.\n",
    " 24. city-mpg:                 continuous from 13 to 49.\n",
    " 25. highway-mpg:              continuous from 16 to 54.\n",
    " 26. price:                    continuous from 5118 to 45400.\n"
   ]
  },
  {
   "cell_type": "code",
   "execution_count": 106,
   "metadata": {},
   "outputs": [
    {
     "name": "stdout",
     "output_type": "stream",
     "text": [
      "symboling              int64\n",
      "nomalized-losses      object\n",
      "make                  object\n",
      "fule-type             object\n",
      "aspiration            object\n",
      "num-of-doors          object\n",
      "body-styple           object\n",
      "drive-wheels          object\n",
      "engine-location       object\n",
      "wheel-base           float64\n",
      "length               float64\n",
      "width                float64\n",
      "height               float64\n",
      "curb-weight            int64\n",
      "engine-type           object\n",
      "num-of-cylinders      object\n",
      "engine-size            int64\n",
      "fuel-system           object\n",
      "bore                  object\n",
      "stroke                object\n",
      "compression-ratio    float64\n",
      "horsepower            object\n",
      "peak-rpm              object\n",
      "city-mpg               int64\n",
      "highway-mpg            int64\n",
      "price                 object\n",
      "dtype: object\n"
     ]
    }
   ],
   "source": [
    "print(df.dtypes)\n"
   ]
  },
  {
   "cell_type": "markdown",
   "metadata": {},
   "source": [
    "The default pandas reader loaded some data types wrong. We should have\n",
    "   -- 15 continuous\n",
    "   -- 1 integer\n",
    "   -- 10 nominal\n",
    "Lets set some values to numeric."
   ]
  },
  {
   "cell_type": "code",
   "execution_count": 107,
   "metadata": {},
   "outputs": [
    {
     "name": "stdout",
     "output_type": "stream",
     "text": [
      "symboling              int64\n",
      "nomalized-losses     float64\n",
      "make                  object\n",
      "fule-type             object\n",
      "aspiration            object\n",
      "num-of-doors          object\n",
      "body-styple           object\n",
      "drive-wheels          object\n",
      "engine-location       object\n",
      "wheel-base           float64\n",
      "length               float64\n",
      "width                float64\n",
      "height               float64\n",
      "curb-weight            int64\n",
      "engine-type           object\n",
      "num-of-cylinders      object\n",
      "engine-size            int64\n",
      "fuel-system           object\n",
      "bore                 float64\n",
      "stroke               float64\n",
      "compression-ratio    float64\n",
      "horsepower           float64\n",
      "peak-rpm             float64\n",
      "city-mpg               int64\n",
      "highway-mpg            int64\n",
      "price                float64\n",
      "dtype: object\n"
     ]
    }
   ],
   "source": [
    "#Fix data types\n",
    "#Lets verify everything is correct now\n",
    "#The first thing we do is replace all \"?\" values with NaNs\n",
    "#Then we find the column mean\n",
    "#Then re replace the NaN with each mean\n",
    "\n",
    "df[\"nomalized-losses\"] = pd.to_numeric(df[\"nomalized-losses\"],errors='coerce')\n",
    "mean = df[\"nomalized-losses\"].mean()\n",
    "df[\"nomalized-losses\"].replace(np.nan, mean,inplace=True)\n",
    "df[\"bore\"] = pd.to_numeric(df[\"bore\"],errors='coerce')\n",
    "mean = df[\"bore\"].mean()\n",
    "df[\"bore\"].replace(np.nan, mean,inplace=True)\n",
    "df[\"stroke\"] = pd.to_numeric(df[\"stroke\"],errors='coerce')\n",
    "mean = df[\"stroke\"].mean()\n",
    "df[\"stroke\"].replace(np.nan, mean,inplace=True)\n",
    "df[\"horsepower\"] = pd.to_numeric(df[\"horsepower\"],errors='coerce')\n",
    "mean = df[\"horsepower\"].mean()\n",
    "df[\"horsepower\"].replace(np.nan, mean,inplace=True)\n",
    "df[\"peak-rpm\"] = pd.to_numeric(df[\"peak-rpm\"],errors='coerce')\n",
    "mean = df[\"peak-rpm\"].mean()\n",
    "df[\"peak-rpm\"].replace(np.nan, mean,inplace=True)\n",
    "\n",
    "#This one is already the right category.\n",
    "df[\"num-of-doors\"].replace(\"?\", \"four\",inplace=True)\n",
    "\n",
    "#Special case, the target\n",
    "#Replace missing values with NA\n",
    "df[\"price\"] = pd.to_numeric(df[\"price\"],errors='coerce')\n",
    "#Drop missing values, since we need price, we have to drop any missing price values\n",
    "df.dropna(subset=[\"price\"],axis=0,inplace=True)\n",
    "\n",
    "\n",
    "print(df.dtypes)"
   ]
  },
  {
   "cell_type": "markdown",
   "metadata": {},
   "source": [
    "Now that everything is verified, lets see the data.\n",
    "In this we look for any crazy max, min or crazy standard deviation. "
   ]
  },
  {
   "cell_type": "code",
   "execution_count": 108,
   "metadata": {},
   "outputs": [
    {
     "name": "stdout",
     "output_type": "stream",
     "text": [
      "(201, 26)\n",
      "(201, 26)\n"
     ]
    }
   ],
   "source": [
    "#Drop missing values, since we need price, we have to drop any missing price values\n",
    "print(df.shape)\n",
    "df.dropna(subset=[\"price\"],axis=0,inplace=True)\n",
    "print(df.shape)"
   ]
  },
  {
   "cell_type": "markdown",
   "metadata": {},
   "source": [
    "So we removed 45 entries for missing values"
   ]
  },
  {
   "cell_type": "code",
   "execution_count": 109,
   "metadata": {},
   "outputs": [
    {
     "name": "stdout",
     "output_type": "stream",
     "text": [
      "         symboling  nomalized-losses    make fule-type aspiration  \\\n",
      "count   201.000000         201.00000     201       201        201   \n",
      "unique         NaN               NaN      22         2          2   \n",
      "top            NaN               NaN  toyota       gas        std   \n",
      "freq           NaN               NaN      32       181        165   \n",
      "mean      0.840796         122.00000     NaN       NaN        NaN   \n",
      "std       1.254802          31.99625     NaN       NaN        NaN   \n",
      "min      -2.000000          65.00000     NaN       NaN        NaN   \n",
      "25%       0.000000         101.00000     NaN       NaN        NaN   \n",
      "50%       1.000000         122.00000     NaN       NaN        NaN   \n",
      "75%       2.000000         137.00000     NaN       NaN        NaN   \n",
      "max       3.000000         256.00000     NaN       NaN        NaN   \n",
      "\n",
      "       num-of-doors body-styple drive-wheels engine-location  wheel-base  \\\n",
      "count           201         201          201             201  201.000000   \n",
      "unique            2           5            3               2         NaN   \n",
      "top            four       sedan          fwd           front         NaN   \n",
      "freq            115          94          118             198         NaN   \n",
      "mean            NaN         NaN          NaN             NaN   98.797015   \n",
      "std             NaN         NaN          NaN             NaN    6.066366   \n",
      "min             NaN         NaN          NaN             NaN   86.600000   \n",
      "25%             NaN         NaN          NaN             NaN   94.500000   \n",
      "50%             NaN         NaN          NaN             NaN   97.000000   \n",
      "75%             NaN         NaN          NaN             NaN  102.400000   \n",
      "max             NaN         NaN          NaN             NaN  120.900000   \n",
      "\n",
      "            ...       engine-size  fuel-system        bore      stroke  \\\n",
      "count       ...        201.000000          201  201.000000  201.000000   \n",
      "unique      ...               NaN            8         NaN         NaN   \n",
      "top         ...               NaN         mpfi         NaN         NaN   \n",
      "freq        ...               NaN           92         NaN         NaN   \n",
      "mean        ...        126.875622          NaN    3.330692    3.256874   \n",
      "std         ...         41.546834          NaN    0.268072    0.316048   \n",
      "min         ...         61.000000          NaN    2.540000    2.070000   \n",
      "25%         ...         98.000000          NaN    3.150000    3.110000   \n",
      "50%         ...        120.000000          NaN    3.310000    3.290000   \n",
      "75%         ...        141.000000          NaN    3.580000    3.410000   \n",
      "max         ...        326.000000          NaN    3.940000    4.170000   \n",
      "\n",
      "       compression-ratio  horsepower     peak-rpm    city-mpg  highway-mpg  \\\n",
      "count         201.000000  201.000000   201.000000  201.000000   201.000000   \n",
      "unique               NaN         NaN          NaN         NaN          NaN   \n",
      "top                  NaN         NaN          NaN         NaN          NaN   \n",
      "freq                 NaN         NaN          NaN         NaN          NaN   \n",
      "mean           10.164279  103.405534  5117.665368   25.179104    30.686567   \n",
      "std             4.004965   37.365700   478.113805    6.423220     6.815150   \n",
      "min             7.000000   48.000000  4150.000000   13.000000    16.000000   \n",
      "25%             8.600000   70.000000  4800.000000   19.000000    25.000000   \n",
      "50%             9.000000   95.000000  5125.369458   24.000000    30.000000   \n",
      "75%             9.400000  116.000000  5500.000000   30.000000    34.000000   \n",
      "max            23.000000  262.000000  6600.000000   49.000000    54.000000   \n",
      "\n",
      "               price  \n",
      "count     201.000000  \n",
      "unique           NaN  \n",
      "top              NaN  \n",
      "freq             NaN  \n",
      "mean    13207.129353  \n",
      "std      7947.066342  \n",
      "min      5118.000000  \n",
      "25%      7775.000000  \n",
      "50%     10295.000000  \n",
      "75%     16500.000000  \n",
      "max     45400.000000  \n",
      "\n",
      "[11 rows x 26 columns]\n"
     ]
    }
   ],
   "source": [
    "print(df.describe(include=\"all\"))"
   ]
  },
  {
   "cell_type": "code",
   "execution_count": null,
   "metadata": {},
   "outputs": [],
   "source": []
  },
  {
   "cell_type": "code",
   "execution_count": null,
   "metadata": {},
   "outputs": [],
   "source": []
  },
  {
   "cell_type": "code",
   "execution_count": null,
   "metadata": {},
   "outputs": [],
   "source": []
  }
 ],
 "metadata": {
  "kernelspec": {
   "display_name": "Python 3",
   "language": "python",
   "name": "python3"
  },
  "language_info": {
   "codemirror_mode": {
    "name": "ipython",
    "version": 3
   },
   "file_extension": ".py",
   "mimetype": "text/x-python",
   "name": "python",
   "nbconvert_exporter": "python",
   "pygments_lexer": "ipython3",
   "version": "3.6.5"
  }
 },
 "nbformat": 4,
 "nbformat_minor": 2
}
